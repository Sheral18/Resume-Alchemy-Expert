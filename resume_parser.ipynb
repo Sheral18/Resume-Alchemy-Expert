{
  "nbformat": 4,
  "nbformat_minor": 0,
  "metadata": {
    "colab": {
      "provenance": []
    },
    "kernelspec": {
      "name": "python3",
      "display_name": "Python 3"
    },
    "language_info": {
      "name": "python"
    }
  },
  "cells": [
    {
      "cell_type": "code",
      "execution_count": 1,
      "metadata": {
        "colab": {
          "base_uri": "https://localhost:8080/"
        },
        "id": "l92l_Vywx4PW",
        "outputId": "be7922e4-84e9-452d-ecfb-d4ffcb22408d"
      },
      "outputs": [
        {
          "output_type": "stream",
          "name": "stderr",
          "text": [
            "/usr/local/lib/python3.9/dist-packages/torch/cuda/__init__.py:497: UserWarning: Can't initialize NVML\n",
            "  warnings.warn(\"Can't initialize NVML\")\n"
          ]
        }
      ],
      "source": [
        "import os\n",
        "import re\n",
        "import pandas as pd\n",
        "import numpy as np\n",
        "import spacy\n",
        "from spacy.matcher import Matcher\n",
        "from sklearn.feature_extraction.text import CountVectorizer, TfidfTransformer\n",
        "from sklearn.model_selection import train_test_split\n",
        "from sklearn.pipeline import Pipeline\n",
        "from sklearn.naive_bayes import MultinomialNB\n",
        "from sklearn.metrics import classification_report"
      ]
    },
    {
      "cell_type": "code",
      "source": [
        "# Load Spacy model for English language\n",
        "nlp = spacy.load('en_core_web_sm')\n",
        "\n",
        "# Define a function to extract skills from resume text\n",
        "\n",
        "\n",
        "def extract_skills(resume_text):\n",
        "    skills = []\n",
        "    doc = nlp(resume_text.lower())\n",
        "    matcher = Matcher(nlp.vocab)\n",
        "    pattern = [{'POS': 'NOUN', 'OP': '+'}, {'POS': 'VERB', 'OP': '?'}, {'POS': 'ADJ', 'OP': '*'}]\n",
        "    matcher.add('Skills', [pattern])\n",
        "    matches = matcher(doc)\n",
        "    for match_id, start, end in matches:\n",
        "        skill = doc[start:end].text\n",
        "        if len(skill) > 1 and not skill.isnumeric():\n",
        "            skills.append(skill)\n",
        "    return list(set(skills))"
      ],
      "metadata": {
        "id": "_YTPE3Dwx8H4"
      },
      "execution_count": 38,
      "outputs": []
    },
    {
      "cell_type": "code",
      "source": [
        "# Define a function to extract experience from resume text\n",
        "def extract_experience(resume_text):\n",
        "    doc = nlp(resume_text.lower())\n",
        "    experience = ''\n",
        "    for sent in doc.sents:\n",
        "        if re.search(r\"\\b(?:experience|work|position|employment)\\b\", sent.text):\n",
        "            experience += ' ' + sent.text\n",
        "    return experience.strip()"
      ],
      "metadata": {
        "id": "PGJsbYlUx81t"
      },
      "execution_count": 30,
      "outputs": []
    },
    {
      "cell_type": "code",
      "source": [
        "# Define a function to preprocess resume text\n",
        "def preprocess_resume(resume_text):\n",
        "    doc = nlp(resume_text.lower())\n",
        "    preprocessed_text = ''\n",
        "    for token in doc:\n",
        "        if token.pos_ == 'NOUN' and token.dep_ == 'compound':\n",
        "            preprocessed_text += token.text + ' '\n",
        "        elif token.pos_ == 'NOUN' and token.dep_ == 'amod':\n",
        "            preprocessed_text += token.text + ' '\n",
        "        elif token.pos_ == 'NOUN' and token.dep_ == 'nsubj':\n",
        "            preprocessed_text += token.text + ' '\n",
        "        elif token.pos_ == 'ADJ' and token.dep_ == 'amod':\n",
        "            preprocessed_text += token.text + ' '\n",
        "        elif token.pos_ == 'VERB' and token.dep_ == 'advmod':\n",
        "            preprocessed_text += token.text + ' '\n",
        "    return preprocessed_text.strip()"
      ],
      "metadata": {
        "id": "TcwJe0NMyBpm"
      },
      "execution_count": 31,
      "outputs": []
    },
    {
      "cell_type": "code",
      "source": [
        "# Load resume dataset\n",
        "dataset_path = '/content/UpdatedResumeDataSet.csv'\n",
        "if not os.path.exists(dataset_path):\n",
        "    !wget https://github.com/amanneox/csv-files/raw/master/resume_dataset.csv\n",
        "df = pd.read_csv(dataset_path)\n",
        "df = df.dropna(subset=['Category'])\n",
        "df = df[['Resume', 'Category']]\n",
        "df = df.rename(columns={'Resume': 'text', 'Category': 'domain'})\n",
        "\n",
        "# Preprocess resume text\n",
        "df['text'] = df['text'].apply(preprocess_resume)"
      ],
      "metadata": {
        "id": "zmL3HKbN5y2i"
      },
      "execution_count": 32,
      "outputs": []
    },
    {
      "cell_type": "code",
      "source": [
        "\n",
        "\n",
        "# Extract skills and experience from resume text\n",
        "\n",
        "df['skills'] = df['text'].apply(extract_skills)\n",
        "df['experience'] = df['text'].apply(extract_experience)\n",
        "\n",
        "# Split dataset into training and testing sets\n",
        "X = df[['text', 'skills', 'experience']]\n",
        "y = df['domain']\n",
        "X_train, X_test, y_train, y_test = train_test_split(X, y, test_size=0.2, random_state=42)"
      ],
      "metadata": {
        "id": "WuY0D4FMyCjs"
      },
      "execution_count": 40,
      "outputs": []
    },
    {
      "cell_type": "code",
      "source": [
        "text_clf = Pipeline([\n",
        "('vect', CountVectorizer(ngram_range=(1, 2))),\n",
        "('tfidf', TfidfTransformer()),\n",
        "('clf', MultinomialNB()),\n",
        "])"
      ],
      "metadata": {
        "id": "R-0qOYT1yChv"
      },
      "execution_count": 41,
      "outputs": []
    },
    {
      "cell_type": "code",
      "source": [
        "#Train the text classification model\n",
        "text_clf.fit(X_train['text'], y_train)\n",
        "\n",
        "#Predict the domain of resume text\n",
        "y_pred = text_clf.predict(X_test['text'])\n",
        "print(classification_report(y_test, y_pred))"
      ],
      "metadata": {
        "colab": {
          "base_uri": "https://localhost:8080/"
        },
        "id": "sT_tAsq2yCfb",
        "outputId": "3599507d-1ab9-4bc3-94d1-8ac40f9cdf65"
      },
      "execution_count": 42,
      "outputs": [
        {
          "output_type": "stream",
          "name": "stdout",
          "text": [
            "                           precision    recall  f1-score   support\n",
            "\n",
            "                 Advocate       0.00      0.00      0.00         3\n",
            "                     Arts       1.00      1.00      1.00         6\n",
            "       Automation Testing       1.00      1.00      1.00         5\n",
            "               Blockchain       1.00      1.00      1.00         7\n",
            "         Business Analyst       1.00      1.00      1.00         4\n",
            "           Civil Engineer       1.00      1.00      1.00         9\n",
            "             Data Science       1.00      1.00      1.00         5\n",
            "                 Database       1.00      1.00      1.00         8\n",
            "          DevOps Engineer       1.00      0.93      0.96        14\n",
            "         DotNet Developer       1.00      1.00      1.00         5\n",
            "            ETL Developer       1.00      1.00      1.00         7\n",
            "   Electrical Engineering       1.00      1.00      1.00         6\n",
            "                       HR       1.00      1.00      1.00        12\n",
            "                   Hadoop       1.00      1.00      1.00         4\n",
            "       Health and fitness       1.00      1.00      1.00         7\n",
            "           Java Developer       0.83      1.00      0.91        15\n",
            "      Mechanical Engineer       1.00      1.00      1.00         8\n",
            "Network Security Engineer       1.00      1.00      1.00         3\n",
            "       Operations Manager       1.00      1.00      1.00        12\n",
            "                      PMO       1.00      1.00      1.00         7\n",
            "         Python Developer       1.00      1.00      1.00        10\n",
            "            SAP Developer       1.00      1.00      1.00         7\n",
            "                    Sales       1.00      1.00      1.00         8\n",
            "                  Testing       0.94      1.00      0.97        16\n",
            "            Web Designing       1.00      1.00      1.00         5\n",
            "\n",
            "                 accuracy                           0.98       193\n",
            "                macro avg       0.95      0.96      0.95       193\n",
            "             weighted avg       0.97      0.98      0.97       193\n",
            "\n"
          ]
        },
        {
          "output_type": "stream",
          "name": "stderr",
          "text": [
            "/usr/local/lib/python3.9/dist-packages/sklearn/metrics/_classification.py:1344: UndefinedMetricWarning: Precision and F-score are ill-defined and being set to 0.0 in labels with no predicted samples. Use `zero_division` parameter to control this behavior.\n",
            "  _warn_prf(average, modifier, msg_start, len(result))\n",
            "/usr/local/lib/python3.9/dist-packages/sklearn/metrics/_classification.py:1344: UndefinedMetricWarning: Precision and F-score are ill-defined and being set to 0.0 in labels with no predicted samples. Use `zero_division` parameter to control this behavior.\n",
            "  _warn_prf(average, modifier, msg_start, len(result))\n",
            "/usr/local/lib/python3.9/dist-packages/sklearn/metrics/_classification.py:1344: UndefinedMetricWarning: Precision and F-score are ill-defined and being set to 0.0 in labels with no predicted samples. Use `zero_division` parameter to control this behavior.\n",
            "  _warn_prf(average, modifier, msg_start, len(result))\n"
          ]
        }
      ]
    },
    {
      "cell_type": "code",
      "source": [
        "#Extract features from skills and experience columns\n",
        "cv_skills = CountVectorizer(tokenizer=lambda x: x, preprocessor=lambda x: x, lowercase=False)\n",
        "cv_exp = CountVectorizer(tokenizer=lambda x: x, preprocessor=lambda x: x, lowercase=False)\n",
        "X_train_skills = cv_skills.fit_transform(X_train['skills'])\n",
        "X_test_skills = cv_skills.transform(X_test['skills'])\n",
        "X_train_exp = cv_exp.fit_transform(X_train['experience'])\n",
        "X_test_exp = cv_exp.transform(X_test['experience'])\n",
        "\n"
      ],
      "metadata": {
        "colab": {
          "base_uri": "https://localhost:8080/"
        },
        "id": "3Kb-ULikyCcK",
        "outputId": "e25b7279-9c6d-4827-d3d3-b6c404717357"
      },
      "execution_count": 44,
      "outputs": [
        {
          "output_type": "stream",
          "name": "stderr",
          "text": [
            "/usr/local/lib/python3.9/dist-packages/sklearn/feature_extraction/text.py:528: UserWarning: The parameter 'token_pattern' will not be used since 'tokenizer' is not None'\n",
            "  warnings.warn(\n"
          ]
        }
      ]
    },
    {
      "cell_type": "code",
      "source": [
        "#Combine all features\n",
        "X_train_combined = np.hstack((X_train_skills.toarray(), X_train_exp.toarray()))\n",
        "X_test_combined = np.hstack((X_test_skills.toarray(), X_test_exp.toarray()))"
      ],
      "metadata": {
        "id": "JeRQmbMbyaCq"
      },
      "execution_count": 45,
      "outputs": []
    },
    {
      "cell_type": "code",
      "source": [
        "#Define pipeline for skills and experience classification\n",
        "skill_exp_clf = Pipeline([\n",
        "('clf', MultinomialNB()),\n",
        "])\n",
        "\n",
        "#Train the skills and experience classification model\n",
        "skill_exp_clf.fit(X_train_combined, y_train)\n",
        "\n",
        "#Predict the domain of skills and experience\n",
        "y_pred_skills_exp = skill_exp_clf.predict(X_test_combined)\n",
        "print(classification_report(y_test, y_pred_skills_exp))"
      ],
      "metadata": {
        "colab": {
          "base_uri": "https://localhost:8080/"
        },
        "id": "JC6zdYJfyZ_Z",
        "outputId": "247b606f-73f4-465f-8ed7-a615a1b6171c"
      },
      "execution_count": 46,
      "outputs": [
        {
          "output_type": "stream",
          "name": "stdout",
          "text": [
            "                           precision    recall  f1-score   support\n",
            "\n",
            "                 Advocate       1.00      0.33      0.50         3\n",
            "                     Arts       1.00      1.00      1.00         6\n",
            "       Automation Testing       1.00      1.00      1.00         5\n",
            "               Blockchain       1.00      1.00      1.00         7\n",
            "         Business Analyst       1.00      0.75      0.86         4\n",
            "           Civil Engineer       1.00      0.22      0.36         9\n",
            "             Data Science       1.00      1.00      1.00         5\n",
            "                 Database       1.00      0.62      0.77         8\n",
            "          DevOps Engineer       1.00      0.93      0.96        14\n",
            "         DotNet Developer       1.00      0.60      0.75         5\n",
            "            ETL Developer       1.00      0.71      0.83         7\n",
            "   Electrical Engineering       1.00      0.67      0.80         6\n",
            "                       HR       1.00      1.00      1.00        12\n",
            "                   Hadoop       1.00      1.00      1.00         4\n",
            "       Health and fitness       1.00      0.57      0.73         7\n",
            "           Java Developer       0.88      0.93      0.90        15\n",
            "      Mechanical Engineer       1.00      0.75      0.86         8\n",
            "Network Security Engineer       1.00      1.00      1.00         3\n",
            "       Operations Manager       1.00      1.00      1.00        12\n",
            "                      PMO       0.17      1.00      0.29         7\n",
            "         Python Developer       1.00      0.50      0.67        10\n",
            "            SAP Developer       1.00      0.57      0.73         7\n",
            "                    Sales       1.00      0.75      0.86         8\n",
            "                  Testing       1.00      1.00      1.00        16\n",
            "            Web Designing       1.00      0.80      0.89         5\n",
            "\n",
            "                 accuracy                           0.81       193\n",
            "                macro avg       0.96      0.79      0.83       193\n",
            "             weighted avg       0.96      0.81      0.84       193\n",
            "\n"
          ]
        }
      ]
    },
    {
      "cell_type": "code",
      "source": [
        "#Predict the domain of a new resume\n",
        "new_resume_text = 'Experienced software engineer with a passion for developing innovative software solutions. Skilled in Java, Python, and C++.'\n",
        "new_resume_skills = extract_skills(new_resume_text)\n",
        "new_resume_exp = extract_experience(new_resume_text)\n",
        "new_resume_skills_vec = cv_skills.transform([new_resume_skills])\n",
        "new_resume_exp_vec = cv_exp.transform([new_resume_exp])\n",
        "new_resume_combined_vec = np.hstack((new_resume_skills_vec.toarray(), new_resume_exp_vec.toarray()))\n",
        "new_resume_domain = skill_exp_clf.predict(new_resume_combined_vec)\n",
        "print('Predicted domain:', new_resume_domain[0])"
      ],
      "metadata": {
        "colab": {
          "base_uri": "https://localhost:8080/"
        },
        "id": "HwFp9pyPyiig",
        "outputId": "dfea37b4-83d5-4d94-e2af-7a46449b6457"
      },
      "execution_count": 49,
      "outputs": [
        {
          "output_type": "stream",
          "name": "stdout",
          "text": [
            "Predicted domain: Testing\n"
          ]
        }
      ]
    },
    {
      "cell_type": "code",
      "source": [],
      "metadata": {
        "id": "hZ28_6xUyigB"
      },
      "execution_count": null,
      "outputs": []
    }
  ]
}